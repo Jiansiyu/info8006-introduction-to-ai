{
 "cells": [
  {
   "cell_type": "code",
   "execution_count": null,
   "metadata": {},
   "outputs": [],
   "source": [
    "%matplotlib inline\n",
    "import matplotlib.pyplot as plt\n",
    "plt.rcParams[\"figure.figsize\"] = (8, 8)\n",
    "plt.rcParams[\"animation.html\"] = 'html5'\n",
    "\n",
    "import numpy as np\n",
    "from scipy.stats import norm\n",
    "from scipy.stats import multivariate_normal\n",
    "\n",
    "def remove_frame():\n",
    "    for spine in plt.gca().spines.values():\n",
    "        spine.set_visible(False)"
   ]
  },
  {
   "cell_type": "markdown",
   "metadata": {},
   "source": [
    "# Multivariate normal"
   ]
  },
  {
   "cell_type": "markdown",
   "metadata": {},
   "source": [
    "$$x \\sim \\mathcal{N}(\\mu, \\Sigma)$$\n",
    "with \n",
    "- $\\mu \\in \\mathbb{R}^d$\n",
    "- $\\Sigma \\in \\mathbb{R}^{d \\times d}$, semi-definitive positive.\n",
    "\n",
    "The probability density function is\n",
    "$$p(x) = \\frac{1}{(2\\pi)^{\\frac{d}{2}}|\\Sigma|^{\\frac{1}{2}}} \\exp(-\\frac{1}{2} (x-\\mu)^T \\Sigma^{-1} (x-\\mu))$$"
   ]
  },
  {
   "cell_type": "code",
   "execution_count": null,
   "metadata": {},
   "outputs": [],
   "source": [
    "mu1 = 0.0\n",
    "mu2 = 0.0\n",
    "mu = np.array([mu1, mu2])\n",
    "sigma11 = 1.0\n",
    "sigma12 = 0.9\n",
    "sigma22 = 1.0\n",
    "sigma = np.array([[sigma11, sigma12], [sigma12, sigma11]])\n",
    "p = multivariate_normal(mean=mu, cov=sigma)"
   ]
  },
  {
   "cell_type": "code",
   "execution_count": null,
   "metadata": {},
   "outputs": [],
   "source": [
    "xs = p.rvs(1000)  # <-- how does this thing could work?"
   ]
  },
  {
   "cell_type": "code",
   "execution_count": null,
   "metadata": {},
   "outputs": [],
   "source": [
    "x1s = np.arange(-3.0, 3.0, 0.1)\n",
    "x2s = np.arange(-3.0, 3.0, 0.1)\n",
    "X1, X2 = np.meshgrid(x1s, x2s)\n",
    "Z = p.pdf(np.hstack([X1.reshape(-1,1), X2.reshape(-1,1)])).reshape(X1.shape)\n",
    "plt.contour(X1, X2, Z, 5)\n",
    "plt.scatter(xs[:, 0], xs[:, 1], c=\"b\", marker=\"o\", alpha=0.5)\n",
    "plt.xlim(min(x1s), max(x1s))\n",
    "plt.ylim(min(x2s), max(x2s))\n",
    "plt.show()"
   ]
  },
  {
   "cell_type": "code",
   "execution_count": null,
   "metadata": {},
   "outputs": [],
   "source": [
    "np.mean(xs, axis=0)"
   ]
  },
  {
   "cell_type": "code",
   "execution_count": null,
   "metadata": {},
   "outputs": [],
   "source": [
    "np.cov(xs.T)"
   ]
  },
  {
   "cell_type": "markdown",
   "metadata": {},
   "source": [
    "How does one can actually implement the `rvs` method?"
   ]
  },
  {
   "cell_type": "markdown",
   "metadata": {},
   "source": [
    "# Gibbs sampling"
   ]
  },
  {
   "cell_type": "markdown",
   "metadata": {},
   "source": [
    "Assume a bivariate normal distribution ($d=2$) on $X_1$ and $X_2$. What would be Bayesian network for this distribution? What if $d \\geq 2$?\n",
    "\n",
    "For Gibbs sampling we need to know the univariate conditional densities $p(x_1|x_2)$ and $p(x_1|x_2)$. In the case of a joint multivariate normal, its conditional distribution is also a multivariate normal:\n",
    "\n",
    "- $x_1|x_2 \\sim \\mathcal{N}(\\mu_1 + \\frac{\\sigma_{12}}{\\sigma_{22}}(x_2-\\mu_2), \\sigma_{11}-\\frac{\\sigma_{12}^2}{\\sigma_{22}})$\n",
    "- $x_2|x_1 \\sim \\mathcal{N}(\\mu_2 + \\frac{\\sigma_{12}}{\\sigma_{11}}(x_1-\\mu_1), \\sigma_{22}-\\frac{\\sigma_{12}^2}{\\sigma_{11}})$\n",
    "\n",
    "where $\\sigma_{12}$ is the covariance between $X_1$ and $X_2$. These are univariate and we can use their known inverse CDFs to draw samples from them."
   ]
  },
  {
   "cell_type": "code",
   "execution_count": null,
   "metadata": {},
   "outputs": [],
   "source": [
    "# Random starting point in [-3,3]x[-3,3]\n",
    "x0 = np.random.rand(2) * 6.0 - 3.0\n",
    "# x0 = np.array([-2.0, 2.0])\n",
    "x0"
   ]
  },
  {
   "cell_type": "code",
   "execution_count": null,
   "metadata": {},
   "outputs": [],
   "source": [
    "xs = [x0]\n",
    "\n",
    "for j in range(1000):\n",
    "    newx = xs[-1].copy()\n",
    "    \n",
    "    # Same as in the course\n",
    "    if j % 2 == 0:  #np.random.rand() < 0.5:\n",
    "        p_x1_given_x2 = norm(mu1 + sigma12/sigma22*(newx[1]-mu2),\n",
    "                             (sigma11 - sigma12**2/sigma22)**0.5)\n",
    "        newx[0] = p_x1_given_x2.rvs(1)\n",
    "        \n",
    "    else:\n",
    "        p_x2_given_x1 = norm(mu2 + sigma12/sigma11*(newx[0]-mu1),\n",
    "                             (sigma22 - sigma12**2/sigma11)**0.5)\n",
    "        newx[1] = p_x2_given_x1.rvs(1)\n",
    "        \n",
    "#     # Resample all variables\n",
    "#     p_x1_given_x2 = norm(mu1 + sigma12/sigma22*(newx[1]-mu2),\n",
    "#                          (sigma11 - sigma12**2/sigma22)**0.5)\n",
    "#     newx[0] = p_x1_given_x2.rvs(1)\n",
    "#     p_x2_given_x1 = norm(mu2 + sigma12/sigma11*(newx[0]-mu1),\n",
    "#                          (sigma22 - sigma12**2/sigma11)**0.5)\n",
    "#     newx[1] = p_x2_given_x1.rvs(1)\n",
    "        \n",
    "    xs.append(newx)\n",
    "    \n",
    "xs = np.array(xs)"
   ]
  },
  {
   "cell_type": "code",
   "execution_count": null,
   "metadata": {},
   "outputs": [],
   "source": [
    "xs"
   ]
  },
  {
   "cell_type": "code",
   "execution_count": null,
   "metadata": {},
   "outputs": [],
   "source": [
    "%%capture\n",
    "from matplotlib.animation import FuncAnimation\n",
    "from IPython.display import HTML\n",
    "\n",
    "fig = plt.figure()\n",
    "ax = plt.axes(xlim=(-3,3), ylim=(-3,3))\n",
    "scatter = ax.scatter([], [], c=\"b\", marker=\"o\", alpha=0.33)\n",
    "vline = ax.axvline(-5.0, c=\"r\")\n",
    "hline = ax.axhline(-5.0, c=\"r\")\n",
    "\n",
    "def init():\n",
    "    x1s = np.arange(-3.0, 3.0, 0.1)\n",
    "    x2s = np.arange(-3.0, 3.0, 0.1)\n",
    "    X1, X2 = np.meshgrid(x1s, x2s)\n",
    "    Z = p.pdf(np.hstack([X1.reshape(-1,1), X2.reshape(-1,1)])).reshape(X1.shape)\n",
    "    ax.contour(X1, X2, Z, 5)\n",
    "\n",
    "    scatter.set_offsets([])\n",
    "    \n",
    "    return scatter,    \n",
    "\n",
    "def update(frame_number):\n",
    "    scatter.set_offsets(xs[:frame_number+1])\n",
    "    vline.set_xdata(xs[frame_number, 0])\n",
    "    hline.set_ydata(xs[frame_number, 1])\n",
    "    \n",
    "    return scatter, "
   ]
  },
  {
   "cell_type": "code",
   "execution_count": null,
   "metadata": {},
   "outputs": [],
   "source": [
    "anim = FuncAnimation(fig, update, init_func=init, interval=200, frames=len(xs))\n",
    "anim"
   ]
  },
  {
   "cell_type": "code",
   "execution_count": null,
   "metadata": {},
   "outputs": [],
   "source": [
    "np.mean(xs, axis=0)"
   ]
  },
  {
   "cell_type": "code",
   "execution_count": null,
   "metadata": {},
   "outputs": [],
   "source": [
    "np.cov(xs.T)"
   ]
  },
  {
   "cell_type": "markdown",
   "metadata": {},
   "source": [
    "- What if $\\sigma_{12} \\to 1$?\n",
    "- Are those samples iid? How can we reduce correlations between samples?"
   ]
  },
  {
   "cell_type": "code",
   "execution_count": null,
   "metadata": {},
   "outputs": [],
   "source": [
    "plt.plot(range(len(xs)), xs[:, 0])\n",
    "plt.show()"
   ]
  }
 ],
 "metadata": {
  "kernelspec": {
   "display_name": "Python 3",
   "language": "python",
   "name": "python3"
  },
  "language_info": {
   "codemirror_mode": {
    "name": "ipython",
    "version": 3
   },
   "file_extension": ".py",
   "mimetype": "text/x-python",
   "name": "python",
   "nbconvert_exporter": "python",
   "pygments_lexer": "ipython3",
   "version": "3.8.1"
  }
 },
 "nbformat": 4,
 "nbformat_minor": 2
}
